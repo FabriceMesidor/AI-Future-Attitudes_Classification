{
 "cells": [
  {
   "cell_type": "code",
   "execution_count": 1,
   "metadata": {},
   "outputs": [],
   "source": [
    "#import the packages that I will need for the projects\n",
    "import pandas as pd\n",
    "import pyreadstat as prs #in order to read SPSS files\n",
    "import matplotlib.pyplot as plt"
   ]
  },
  {
   "cell_type": "code",
   "execution_count": 7,
   "metadata": {},
   "outputs": [],
   "source": [
    "#read the data - the data is in SPSS format\n",
    "df, meta = prs.read_sav('W35_May18/ATP W35.sav')\n",
    "# pd.read_csv(\"../data_folder/data.csv\")"
   ]
  },
  {
   "cell_type": "code",
   "execution_count": 8,
   "metadata": {},
   "outputs": [
    {
     "data": {
      "text/html": [
       "<div>\n",
       "<style scoped>\n",
       "    .dataframe tbody tr th:only-of-type {\n",
       "        vertical-align: middle;\n",
       "    }\n",
       "\n",
       "    .dataframe tbody tr th {\n",
       "        vertical-align: top;\n",
       "    }\n",
       "\n",
       "    .dataframe thead th {\n",
       "        text-align: right;\n",
       "    }\n",
       "</style>\n",
       "<table border=\"1\" class=\"dataframe\">\n",
       "  <thead>\n",
       "    <tr style=\"text-align: right;\">\n",
       "      <th></th>\n",
       "      <th>QKEY</th>\n",
       "      <th>Device_Type_W35</th>\n",
       "      <th>LANGUAGE_W35</th>\n",
       "      <th>FORM_W35</th>\n",
       "      <th>ALG1_W35</th>\n",
       "      <th>ECIMPA_W35</th>\n",
       "      <th>ECIMPB_W35</th>\n",
       "      <th>ECIMPC_W35</th>\n",
       "      <th>ECIMPD_W35</th>\n",
       "      <th>ECIMPE_W35</th>\n",
       "      <th>...</th>\n",
       "      <th>F_PARTY_FINAL</th>\n",
       "      <th>F_PARTYLN_FINAL</th>\n",
       "      <th>F_PARTYSUM_FINAL</th>\n",
       "      <th>F_INCOME_FINAL</th>\n",
       "      <th>F_INCOME_RECODE_FINAL</th>\n",
       "      <th>F_REG_FINAL</th>\n",
       "      <th>F_IDEO_FINAL</th>\n",
       "      <th>F_INTUSER_FINAL</th>\n",
       "      <th>F_VOLSUM_FINAL</th>\n",
       "      <th>WEIGHT_W35</th>\n",
       "    </tr>\n",
       "  </thead>\n",
       "  <tbody>\n",
       "    <tr>\n",
       "      <th>0</th>\n",
       "      <td>100197.0</td>\n",
       "      <td>2.0</td>\n",
       "      <td>9.0</td>\n",
       "      <td>1.0</td>\n",
       "      <td>1.0</td>\n",
       "      <td>3.0</td>\n",
       "      <td>1.0</td>\n",
       "      <td>2.0</td>\n",
       "      <td>1.0</td>\n",
       "      <td>NaN</td>\n",
       "      <td>...</td>\n",
       "      <td>2.0</td>\n",
       "      <td>NaN</td>\n",
       "      <td>2.0</td>\n",
       "      <td>3.0</td>\n",
       "      <td>3.0</td>\n",
       "      <td>1.0</td>\n",
       "      <td>3.0</td>\n",
       "      <td>1.0</td>\n",
       "      <td>1.0</td>\n",
       "      <td>0.295954</td>\n",
       "    </tr>\n",
       "    <tr>\n",
       "      <th>1</th>\n",
       "      <td>100260.0</td>\n",
       "      <td>2.0</td>\n",
       "      <td>9.0</td>\n",
       "      <td>2.0</td>\n",
       "      <td>2.0</td>\n",
       "      <td>NaN</td>\n",
       "      <td>NaN</td>\n",
       "      <td>NaN</td>\n",
       "      <td>NaN</td>\n",
       "      <td>3.0</td>\n",
       "      <td>...</td>\n",
       "      <td>1.0</td>\n",
       "      <td>NaN</td>\n",
       "      <td>1.0</td>\n",
       "      <td>6.0</td>\n",
       "      <td>2.0</td>\n",
       "      <td>1.0</td>\n",
       "      <td>1.0</td>\n",
       "      <td>1.0</td>\n",
       "      <td>2.0</td>\n",
       "      <td>0.414951</td>\n",
       "    </tr>\n",
       "    <tr>\n",
       "      <th>2</th>\n",
       "      <td>100314.0</td>\n",
       "      <td>1.0</td>\n",
       "      <td>9.0</td>\n",
       "      <td>1.0</td>\n",
       "      <td>2.0</td>\n",
       "      <td>1.0</td>\n",
       "      <td>2.0</td>\n",
       "      <td>1.0</td>\n",
       "      <td>1.0</td>\n",
       "      <td>NaN</td>\n",
       "      <td>...</td>\n",
       "      <td>1.0</td>\n",
       "      <td>NaN</td>\n",
       "      <td>1.0</td>\n",
       "      <td>4.0</td>\n",
       "      <td>2.0</td>\n",
       "      <td>1.0</td>\n",
       "      <td>2.0</td>\n",
       "      <td>1.0</td>\n",
       "      <td>1.0</td>\n",
       "      <td>0.187774</td>\n",
       "    </tr>\n",
       "    <tr>\n",
       "      <th>3</th>\n",
       "      <td>100363.0</td>\n",
       "      <td>1.0</td>\n",
       "      <td>9.0</td>\n",
       "      <td>1.0</td>\n",
       "      <td>1.0</td>\n",
       "      <td>3.0</td>\n",
       "      <td>1.0</td>\n",
       "      <td>1.0</td>\n",
       "      <td>1.0</td>\n",
       "      <td>NaN</td>\n",
       "      <td>...</td>\n",
       "      <td>2.0</td>\n",
       "      <td>NaN</td>\n",
       "      <td>2.0</td>\n",
       "      <td>8.0</td>\n",
       "      <td>1.0</td>\n",
       "      <td>1.0</td>\n",
       "      <td>3.0</td>\n",
       "      <td>1.0</td>\n",
       "      <td>2.0</td>\n",
       "      <td>1.205720</td>\n",
       "    </tr>\n",
       "    <tr>\n",
       "      <th>4</th>\n",
       "      <td>100446.0</td>\n",
       "      <td>3.0</td>\n",
       "      <td>9.0</td>\n",
       "      <td>1.0</td>\n",
       "      <td>2.0</td>\n",
       "      <td>1.0</td>\n",
       "      <td>1.0</td>\n",
       "      <td>2.0</td>\n",
       "      <td>1.0</td>\n",
       "      <td>NaN</td>\n",
       "      <td>...</td>\n",
       "      <td>2.0</td>\n",
       "      <td>NaN</td>\n",
       "      <td>2.0</td>\n",
       "      <td>7.0</td>\n",
       "      <td>1.0</td>\n",
       "      <td>1.0</td>\n",
       "      <td>4.0</td>\n",
       "      <td>1.0</td>\n",
       "      <td>1.0</td>\n",
       "      <td>0.110696</td>\n",
       "    </tr>\n",
       "  </tbody>\n",
       "</table>\n",
       "<p>5 rows × 190 columns</p>\n",
       "</div>"
      ],
      "text/plain": [
       "       QKEY  Device_Type_W35  LANGUAGE_W35  FORM_W35  ALG1_W35  ECIMPA_W35  \\\n",
       "0  100197.0              2.0           9.0       1.0       1.0         3.0   \n",
       "1  100260.0              2.0           9.0       2.0       2.0         NaN   \n",
       "2  100314.0              1.0           9.0       1.0       2.0         1.0   \n",
       "3  100363.0              1.0           9.0       1.0       1.0         3.0   \n",
       "4  100446.0              3.0           9.0       1.0       2.0         1.0   \n",
       "\n",
       "   ECIMPB_W35  ECIMPC_W35  ECIMPD_W35  ECIMPE_W35  ...  F_PARTY_FINAL  \\\n",
       "0         1.0         2.0         1.0         NaN  ...            2.0   \n",
       "1         NaN         NaN         NaN         3.0  ...            1.0   \n",
       "2         2.0         1.0         1.0         NaN  ...            1.0   \n",
       "3         1.0         1.0         1.0         NaN  ...            2.0   \n",
       "4         1.0         2.0         1.0         NaN  ...            2.0   \n",
       "\n",
       "   F_PARTYLN_FINAL  F_PARTYSUM_FINAL  F_INCOME_FINAL  F_INCOME_RECODE_FINAL  \\\n",
       "0              NaN               2.0             3.0                    3.0   \n",
       "1              NaN               1.0             6.0                    2.0   \n",
       "2              NaN               1.0             4.0                    2.0   \n",
       "3              NaN               2.0             8.0                    1.0   \n",
       "4              NaN               2.0             7.0                    1.0   \n",
       "\n",
       "   F_REG_FINAL  F_IDEO_FINAL  F_INTUSER_FINAL  F_VOLSUM_FINAL  WEIGHT_W35  \n",
       "0          1.0           3.0              1.0             1.0    0.295954  \n",
       "1          1.0           1.0              1.0             2.0    0.414951  \n",
       "2          1.0           2.0              1.0             1.0    0.187774  \n",
       "3          1.0           3.0              1.0             2.0    1.205720  \n",
       "4          1.0           4.0              1.0             1.0    0.110696  \n",
       "\n",
       "[5 rows x 190 columns]"
      ]
     },
     "execution_count": 8,
     "metadata": {},
     "output_type": "execute_result"
    }
   ],
   "source": [
    "#Check the data\n",
    "df.head()"
   ]
  },
  {
   "cell_type": "code",
   "execution_count": 43,
   "metadata": {},
   "outputs": [
    {
     "data": {
      "text/plain": [
       "4594"
      ]
     },
     "execution_count": 43,
     "metadata": {},
     "output_type": "execute_result"
    }
   ],
   "source": [
    "len(df)"
   ]
  },
  {
   "cell_type": "code",
   "execution_count": 44,
   "metadata": {},
   "outputs": [
    {
     "data": {
      "text/plain": [
       "['QKEY',\n",
       " 'Device_Type_W35',\n",
       " 'LANGUAGE_W35',\n",
       " 'FORM_W35',\n",
       " 'ALG1_W35',\n",
       " 'ECIMPA_W35',\n",
       " 'ECIMPB_W35',\n",
       " 'ECIMPC_W35',\n",
       " 'ECIMPD_W35',\n",
       " 'ECIMPE_W35',\n",
       " 'ECIMPF_W35',\n",
       " 'ECIMPG_W35',\n",
       " 'ECIMPH_W35',\n",
       " 'TC2A_W35',\n",
       " 'TC2B_W35',\n",
       " 'TC2C_W35',\n",
       " 'TC3A_W35',\n",
       " 'TC3B_W35',\n",
       " 'TC3C_W35',\n",
       " 'TC4_W35',\n",
       " 'TC5_W35',\n",
       " 'TC6A_W35',\n",
       " 'TC6B_W35',\n",
       " 'SNSA_W35',\n",
       " 'SNSB_W35',\n",
       " 'SNSE_W35',\n",
       " 'SNSH_W35',\n",
       " 'SNSJ_W35',\n",
       " 'SNSL_W35',\n",
       " 'SNSUSER_W35',\n",
       " 'SNSFRA_W35',\n",
       " 'SNSFRB_W35',\n",
       " 'SM1A_W35',\n",
       " 'SM1B_W35',\n",
       " 'SM1C_W35',\n",
       " 'SM1D_W35',\n",
       " 'SM1E_W35',\n",
       " 'SM1F_W35',\n",
       " 'SM2A_W35',\n",
       " 'SM2B_W35',\n",
       " 'SM2C_W35',\n",
       " 'SM2D_W35',\n",
       " 'SM3_W35',\n",
       " 'SM4A_W35',\n",
       " 'SM4B_W35',\n",
       " 'SM4C_W35',\n",
       " 'SM4D_W35',\n",
       " 'SM5A_W35',\n",
       " 'SM5B_W35',\n",
       " 'SM5C_W35',\n",
       " 'SM5D_W35',\n",
       " 'SM6A_W35',\n",
       " 'SM6B_W35',\n",
       " 'SM7_W35',\n",
       " 'SM8A_W35',\n",
       " 'SM8B_W35',\n",
       " 'SM8C_W35',\n",
       " 'SM9A_W35',\n",
       " 'SM9B_W35',\n",
       " 'SM9C_W35',\n",
       " 'SM9D_W35',\n",
       " 'SM9E_W35',\n",
       " 'SM10A_W35',\n",
       " 'SM10B_W35',\n",
       " 'SM10C_W35',\n",
       " 'SM10D_W35',\n",
       " 'SM10E_W35',\n",
       " 'SM11_W35',\n",
       " 'SM12A_W35',\n",
       " 'SM12B_W35',\n",
       " 'SM12C_W35',\n",
       " 'SM13A_W35',\n",
       " 'SM13B_W35',\n",
       " 'SM13C_W35',\n",
       " 'SM14A_W35',\n",
       " 'SM14B_W35',\n",
       " 'SM14C_W35',\n",
       " 'SM14D_W35',\n",
       " 'FB1_W35',\n",
       " 'FB2_W35',\n",
       " 'FB3A_W35',\n",
       " 'FB3B_W35',\n",
       " 'FB3C1_W35',\n",
       " 'FB3C2_W35',\n",
       " 'FB3C3_W35',\n",
       " 'FB3C4_W35',\n",
       " 'FB3C5_W35',\n",
       " 'FB3C6_W35',\n",
       " 'FB4A_W35',\n",
       " 'FB4B_W35',\n",
       " 'FB5A_W35',\n",
       " 'FB5B_W35',\n",
       " 'FB5C_W35',\n",
       " 'FB5D_W35',\n",
       " 'YT1A_W35',\n",
       " 'YT1B_W35',\n",
       " 'YT1C_W35',\n",
       " 'YT1D_W35',\n",
       " 'YT2_W35',\n",
       " 'YT3A_W35',\n",
       " 'YT3B_W35',\n",
       " 'YT3C_W35',\n",
       " 'YT4_W35',\n",
       " 'YT5_W35',\n",
       " 'V1_W35',\n",
       " 'V1Q1_W35',\n",
       " 'V1Q2_W35',\n",
       " 'V1Q3_W35',\n",
       " 'V1Q4_POS1_W35',\n",
       " 'V1Q4_POS2_W35',\n",
       " 'V1Q4_POS3_W35',\n",
       " 'V1Q4_POS4_W35',\n",
       " 'V1Q4_POS5_W35',\n",
       " 'V1Q4_NEG1_W35',\n",
       " 'V1Q4_NEG2_W35',\n",
       " 'V1Q4_NEG3_W35',\n",
       " 'V1Q4_NEG4_W35',\n",
       " 'V1Q4_NEG5_W35',\n",
       " 'V1Q4_OTHER_W35',\n",
       " 'V1Q4_DK_W35',\n",
       " 'V1Q4_Refused_W35',\n",
       " 'V2Q1_W35',\n",
       " 'V2Q2_W35',\n",
       " 'V2Q3_W35',\n",
       " 'V2Q4_POS1_W35',\n",
       " 'V2Q4_POS2_W35',\n",
       " 'V2Q4_POS3_W35',\n",
       " 'V2Q4_POS4_W35',\n",
       " 'V2Q4_POS5_W35',\n",
       " 'V2Q4_NEG1_W35',\n",
       " 'V2Q4_NEG2_W35',\n",
       " 'V2Q4_NEG3_W35',\n",
       " 'V2Q4_NEG4_W35',\n",
       " 'V2Q4_NEG5_W35',\n",
       " 'V2Q4_DK_W35',\n",
       " 'V2Q4_OTHER_W35',\n",
       " 'V2Q4_Refused_W35',\n",
       " 'V2_W35',\n",
       " 'V3Q1_W35',\n",
       " 'V3Q2_W35',\n",
       " 'V3Q3_W35',\n",
       " 'V3Q4_POS1_W35',\n",
       " 'V3Q4_POS2_W35',\n",
       " 'V3Q4_POS3_W35',\n",
       " 'V3Q4_POS4_W35',\n",
       " 'V3Q4_NEG1_W35',\n",
       " 'V3Q4_NEG2_W35',\n",
       " 'V3Q4_NEG3_W35',\n",
       " 'V3Q4_NEG4_W35',\n",
       " 'V3Q4_NEG5_W35',\n",
       " 'V3Q4_OTHER_W35',\n",
       " 'V3Q4_DK_W35',\n",
       " 'V3Q4_Refused_W35',\n",
       " 'V4Q1_W35',\n",
       " 'V4Q2_W35',\n",
       " 'V4Q3_W35',\n",
       " 'V4Q4_POS1_W35',\n",
       " 'V4Q4_POS2_W35',\n",
       " 'V4Q4_POS3_W35',\n",
       " 'V4Q4_POS4_W35',\n",
       " 'V4Q4_POS5_W35',\n",
       " 'V4Q4_NEG1_W35',\n",
       " 'V4Q4_NEG2_W35',\n",
       " 'V4Q4_NEG3_W35',\n",
       " 'V4Q4_OTHER_W35',\n",
       " 'V4Q4_DK_W35',\n",
       " 'V4Q4_Refused_W35',\n",
       " 'F_CREGION_FINAL',\n",
       " 'F_AGECAT_FINAL',\n",
       " 'F_SEX_FINAL',\n",
       " 'F_EDUCCAT_FINAL',\n",
       " 'F_EDUCCAT2_FINAL',\n",
       " 'F_HISP_RECRUITMENT',\n",
       " 'F_RACECMB_RECRUITMENT',\n",
       " 'F_RACETHN_RECRUITMENT',\n",
       " 'F_CITIZEN_RECODE_FINAL',\n",
       " 'F_MARITAL_FINAL',\n",
       " 'F_RELIG_FINAL',\n",
       " 'F_BORN_FINAL',\n",
       " 'F_ATTEND_FINAL',\n",
       " 'F_PARTY_FINAL',\n",
       " 'F_PARTYLN_FINAL',\n",
       " 'F_PARTYSUM_FINAL',\n",
       " 'F_INCOME_FINAL',\n",
       " 'F_INCOME_RECODE_FINAL',\n",
       " 'F_REG_FINAL',\n",
       " 'F_IDEO_FINAL',\n",
       " 'F_INTUSER_FINAL',\n",
       " 'F_VOLSUM_FINAL',\n",
       " 'WEIGHT_W35']"
      ]
     },
     "execution_count": 44,
     "metadata": {},
     "output_type": "execute_result"
    }
   ],
   "source": [
    "col = list(df.columns)\n",
    "col"
   ]
  },
  {
   "cell_type": "code",
   "execution_count": 45,
   "metadata": {},
   "outputs": [
    {
     "data": {
      "text/plain": [
       "190"
      ]
     },
     "execution_count": 45,
     "metadata": {},
     "output_type": "execute_result"
    }
   ],
   "source": [
    "len(col)"
   ]
  },
  {
   "cell_type": "code",
   "execution_count": 46,
   "metadata": {},
   "outputs": [
    {
     "data": {
      "text/plain": [
       "2.0     2790\n",
       "1.0     1713\n",
       "99.0      91\n",
       "Name: ALG1_W35, dtype: int64"
      ]
     },
     "execution_count": 46,
     "metadata": {},
     "output_type": "execute_result"
    }
   ],
   "source": [
    "#Check the target variables for eventual class imbalance\n",
    "df.ALG1_W35.value_counts()"
   ]
  },
  {
   "cell_type": "code",
   "execution_count": 47,
   "metadata": {},
   "outputs": [],
   "source": [
    "#remove the non answer\n",
    "df = df[df.ALG1_W35 != 99]"
   ]
  },
  {
   "cell_type": "code",
   "execution_count": 48,
   "metadata": {},
   "outputs": [
    {
     "data": {
      "text/plain": [
       "2.0    2790\n",
       "1.0    1713\n",
       "Name: ALG1_W35, dtype: int64"
      ]
     },
     "execution_count": 48,
     "metadata": {},
     "output_type": "execute_result"
    }
   ],
   "source": [
    "df.ALG1_W35.value_counts()"
   ]
  },
  {
   "cell_type": "code",
   "execution_count": 49,
   "metadata": {},
   "outputs": [
    {
     "data": {
      "image/png": "[encoded data removed]",
      "text/plain": [
       "<Figure size 288x216 with 1 Axes>"
      ]
     },
     "metadata": {
      "needs_background": "light"
     },
     "output_type": "display_data"
    }
   ],
   "source": [
    "df.ALG1_W35.hist(figsize=(4,3))\n",
    "plt.show()"
   ]
  },
  {
   "cell_type": "code",
   "execution_count": 50,
   "metadata": {
    "scrolled": false
   },
   "outputs": [
    {
     "name": "stdout",
     "output_type": "stream",
     "text": [
      "<class 'pandas.core.frame.DataFrame'>\n",
      "Int64Index: 4503 entries, 0 to 4593\n",
      "Columns: 190 entries, QKEY to WEIGHT_W35\n",
      "dtypes: float64(190)\n",
      "memory usage: 6.6 MB\n"
     ]
    }
   ],
   "source": [
    "df.info()"
   ]
  },
  {
   "cell_type": "code",
   "execution_count": null,
   "metadata": {},
   "outputs": [],
   "source": []
  }
 ],
 "metadata": {
  "kernelspec": {
   "display_name": "Python 3",
   "language": "python",
   "name": "python3"
  },
  "language_info": {
   "codemirror_mode": {
    "name": "ipython",
    "version": 3
   },
   "file_extension": ".py",
   "mimetype": "text/x-python",
   "name": "python",
   "nbconvert_exporter": "python",
   "pygments_lexer": "ipython3",
   "version": "3.7.3"
  }
 },
 "nbformat": 4,
 "nbformat_minor": 2
}
